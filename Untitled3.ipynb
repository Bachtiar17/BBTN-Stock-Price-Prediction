{
 "cells": [
  {
   "cell_type": "code",
   "execution_count": 62,
   "id": "c8387371",
   "metadata": {
    "scrolled": true
   },
   "outputs": [
    {
     "data": {
      "text/html": [
       "<div>\n",
       "<style scoped>\n",
       "    .dataframe tbody tr th:only-of-type {\n",
       "        vertical-align: middle;\n",
       "    }\n",
       "\n",
       "    .dataframe tbody tr th {\n",
       "        vertical-align: top;\n",
       "    }\n",
       "\n",
       "    .dataframe thead th {\n",
       "        text-align: right;\n",
       "    }\n",
       "</style>\n",
       "<table border=\"1\" class=\"dataframe\">\n",
       "  <thead>\n",
       "    <tr style=\"text-align: right;\">\n",
       "      <th></th>\n",
       "      <th>Date</th>\n",
       "      <th>Assets</th>\n",
       "      <th>Liabilities</th>\n",
       "      <th>Share Number</th>\n",
       "      <th>Price plus 3 Months</th>\n",
       "      <th>PBV</th>\n",
       "      <th>NPL</th>\n",
       "      <th>NIM</th>\n",
       "      <th>BI Rate</th>\n",
       "    </tr>\n",
       "  </thead>\n",
       "  <tbody>\n",
       "    <tr>\n",
       "      <th>0</th>\n",
       "      <td>2016-03-01</td>\n",
       "      <td>178419306</td>\n",
       "      <td>164025711</td>\n",
       "      <td>10590000000</td>\n",
       "      <td>1542</td>\n",
       "      <td>1.134517</td>\n",
       "      <td>0.0246</td>\n",
       "      <td>0.0498</td>\n",
       "      <td>7.000000</td>\n",
       "    </tr>\n",
       "    <tr>\n",
       "      <th>1</th>\n",
       "      <td>2016-06-01</td>\n",
       "      <td>189513352</td>\n",
       "      <td>171966707</td>\n",
       "      <td>10590000000</td>\n",
       "      <td>1266</td>\n",
       "      <td>0.764074</td>\n",
       "      <td>0.0236</td>\n",
       "      <td>0.0498</td>\n",
       "      <td>6.666667</td>\n",
       "    </tr>\n",
       "    <tr>\n",
       "      <th>2</th>\n",
       "      <td>2016-09-01</td>\n",
       "      <td>197294346</td>\n",
       "      <td>179143723</td>\n",
       "      <td>10590000000</td>\n",
       "      <td>1462</td>\n",
       "      <td>0.853005</td>\n",
       "      <td>0.0257</td>\n",
       "      <td>0.0498</td>\n",
       "      <td>5.583333</td>\n",
       "    </tr>\n",
       "    <tr>\n",
       "      <th>3</th>\n",
       "      <td>2016-12-01</td>\n",
       "      <td>214168479</td>\n",
       "      <td>195037943</td>\n",
       "      <td>10590000000</td>\n",
       "      <td>1918</td>\n",
       "      <td>1.061738</td>\n",
       "      <td>0.0196</td>\n",
       "      <td>0.0498</td>\n",
       "      <td>4.750000</td>\n",
       "    </tr>\n",
       "    <tr>\n",
       "      <th>4</th>\n",
       "      <td>2017-03-01</td>\n",
       "      <td>214311665</td>\n",
       "      <td>195115301</td>\n",
       "      <td>10590000000</td>\n",
       "      <td>2360</td>\n",
       "      <td>1.301934</td>\n",
       "      <td>0.0252</td>\n",
       "      <td>0.0478</td>\n",
       "      <td>4.750000</td>\n",
       "    </tr>\n",
       "  </tbody>\n",
       "</table>\n",
       "</div>"
      ],
      "text/plain": [
       "        Date     Assets  Liabilities  Share Number  Price plus 3 Months  \\\n",
       "0 2016-03-01  178419306    164025711   10590000000                 1542   \n",
       "1 2016-06-01  189513352    171966707   10590000000                 1266   \n",
       "2 2016-09-01  197294346    179143723   10590000000                 1462   \n",
       "3 2016-12-01  214168479    195037943   10590000000                 1918   \n",
       "4 2017-03-01  214311665    195115301   10590000000                 2360   \n",
       "\n",
       "        PBV     NPL     NIM   BI Rate  \n",
       "0  1.134517  0.0246  0.0498  7.000000  \n",
       "1  0.764074  0.0236  0.0498  6.666667  \n",
       "2  0.853005  0.0257  0.0498  5.583333  \n",
       "3  1.061738  0.0196  0.0498  4.750000  \n",
       "4  1.301934  0.0252  0.0478  4.750000  "
      ]
     },
     "execution_count": 62,
     "metadata": {},
     "output_type": "execute_result"
    }
   ],
   "source": [
    "import pandas as pd\n",
    "df=pd.read_excel(\"BBTN_SIMU2.xlsx\")\n",
    "df.head()"
   ]
  },
  {
   "cell_type": "code",
   "execution_count": 63,
   "id": "878b82e9",
   "metadata": {
    "scrolled": true
   },
   "outputs": [],
   "source": [
    "df[\"NPL\"]=df[\"NPL\"]*100\n",
    "df[\"NIM\"]=df[\"NIM\"]*100"
   ]
  },
  {
   "cell_type": "code",
   "execution_count": 64,
   "id": "ebfaea75",
   "metadata": {},
   "outputs": [
    {
     "name": "stdout",
     "output_type": "stream",
     "text": [
      "(32, 9)\n"
     ]
    }
   ],
   "source": [
    "df.head()\n",
    "print(df.shape)"
   ]
  },
  {
   "cell_type": "code",
   "execution_count": 65,
   "id": "12b089ad",
   "metadata": {
    "scrolled": false
   },
   "outputs": [
    {
     "data": {
      "text/html": [
       "<div>\n",
       "<style scoped>\n",
       "    .dataframe tbody tr th:only-of-type {\n",
       "        vertical-align: middle;\n",
       "    }\n",
       "\n",
       "    .dataframe tbody tr th {\n",
       "        vertical-align: top;\n",
       "    }\n",
       "\n",
       "    .dataframe thead th {\n",
       "        text-align: right;\n",
       "    }\n",
       "</style>\n",
       "<table border=\"1\" class=\"dataframe\">\n",
       "  <thead>\n",
       "    <tr style=\"text-align: right;\">\n",
       "      <th></th>\n",
       "      <th>Assets</th>\n",
       "      <th>Liabilities</th>\n",
       "      <th>Share Number</th>\n",
       "      <th>Price plus 3 Months</th>\n",
       "      <th>PBV</th>\n",
       "      <th>NPL</th>\n",
       "      <th>NIM</th>\n",
       "      <th>BI Rate</th>\n",
       "    </tr>\n",
       "  </thead>\n",
       "  <tbody>\n",
       "    <tr>\n",
       "      <th>Assets</th>\n",
       "      <td>1.000000</td>\n",
       "      <td>0.991432</td>\n",
       "      <td>0.539342</td>\n",
       "      <td>-0.602733</td>\n",
       "      <td>-0.555502</td>\n",
       "      <td>-0.675803</td>\n",
       "      <td>-0.610437</td>\n",
       "      <td>-0.325217</td>\n",
       "    </tr>\n",
       "    <tr>\n",
       "      <th>Liabilities</th>\n",
       "      <td>0.991432</td>\n",
       "      <td>1.000000</td>\n",
       "      <td>0.528174</td>\n",
       "      <td>-0.614580</td>\n",
       "      <td>-0.470404</td>\n",
       "      <td>-0.675063</td>\n",
       "      <td>-0.579120</td>\n",
       "      <td>-0.375004</td>\n",
       "    </tr>\n",
       "    <tr>\n",
       "      <th>Share Number</th>\n",
       "      <td>0.539342</td>\n",
       "      <td>0.528174</td>\n",
       "      <td>1.000000</td>\n",
       "      <td>-0.293198</td>\n",
       "      <td>-0.196503</td>\n",
       "      <td>-0.374445</td>\n",
       "      <td>-0.168299</td>\n",
       "      <td>0.373530</td>\n",
       "    </tr>\n",
       "    <tr>\n",
       "      <th>Price plus 3 Months</th>\n",
       "      <td>-0.602733</td>\n",
       "      <td>-0.614580</td>\n",
       "      <td>-0.293198</td>\n",
       "      <td>1.000000</td>\n",
       "      <td>0.649402</td>\n",
       "      <td>0.181688</td>\n",
       "      <td>0.517114</td>\n",
       "      <td>0.009750</td>\n",
       "    </tr>\n",
       "    <tr>\n",
       "      <th>PBV</th>\n",
       "      <td>-0.555502</td>\n",
       "      <td>-0.470404</td>\n",
       "      <td>-0.196503</td>\n",
       "      <td>0.649402</td>\n",
       "      <td>1.000000</td>\n",
       "      <td>0.272337</td>\n",
       "      <td>0.560553</td>\n",
       "      <td>-0.118030</td>\n",
       "    </tr>\n",
       "    <tr>\n",
       "      <th>NPL</th>\n",
       "      <td>-0.675803</td>\n",
       "      <td>-0.675063</td>\n",
       "      <td>-0.374445</td>\n",
       "      <td>0.181688</td>\n",
       "      <td>0.272337</td>\n",
       "      <td>1.000000</td>\n",
       "      <td>-0.039857</td>\n",
       "      <td>0.328638</td>\n",
       "    </tr>\n",
       "    <tr>\n",
       "      <th>NIM</th>\n",
       "      <td>-0.610437</td>\n",
       "      <td>-0.579120</td>\n",
       "      <td>-0.168299</td>\n",
       "      <td>0.517114</td>\n",
       "      <td>0.560553</td>\n",
       "      <td>-0.039857</td>\n",
       "      <td>1.000000</td>\n",
       "      <td>0.163889</td>\n",
       "    </tr>\n",
       "    <tr>\n",
       "      <th>BI Rate</th>\n",
       "      <td>-0.325217</td>\n",
       "      <td>-0.375004</td>\n",
       "      <td>0.373530</td>\n",
       "      <td>0.009750</td>\n",
       "      <td>-0.118030</td>\n",
       "      <td>0.328638</td>\n",
       "      <td>0.163889</td>\n",
       "      <td>1.000000</td>\n",
       "    </tr>\n",
       "  </tbody>\n",
       "</table>\n",
       "</div>"
      ],
      "text/plain": [
       "                       Assets  Liabilities  Share Number  Price plus 3 Months  \\\n",
       "Assets               1.000000     0.991432      0.539342            -0.602733   \n",
       "Liabilities          0.991432     1.000000      0.528174            -0.614580   \n",
       "Share Number         0.539342     0.528174      1.000000            -0.293198   \n",
       "Price plus 3 Months -0.602733    -0.614580     -0.293198             1.000000   \n",
       "PBV                 -0.555502    -0.470404     -0.196503             0.649402   \n",
       "NPL                 -0.675803    -0.675063     -0.374445             0.181688   \n",
       "NIM                 -0.610437    -0.579120     -0.168299             0.517114   \n",
       "BI Rate             -0.325217    -0.375004      0.373530             0.009750   \n",
       "\n",
       "                          PBV       NPL       NIM   BI Rate  \n",
       "Assets              -0.555502 -0.675803 -0.610437 -0.325217  \n",
       "Liabilities         -0.470404 -0.675063 -0.579120 -0.375004  \n",
       "Share Number        -0.196503 -0.374445 -0.168299  0.373530  \n",
       "Price plus 3 Months  0.649402  0.181688  0.517114  0.009750  \n",
       "PBV                  1.000000  0.272337  0.560553 -0.118030  \n",
       "NPL                  0.272337  1.000000 -0.039857  0.328638  \n",
       "NIM                  0.560553 -0.039857  1.000000  0.163889  \n",
       "BI Rate             -0.118030  0.328638  0.163889  1.000000  "
      ]
     },
     "execution_count": 65,
     "metadata": {},
     "output_type": "execute_result"
    }
   ],
   "source": [
    "df.corr()"
   ]
  },
  {
   "cell_type": "code",
   "execution_count": 66,
   "id": "53d86696",
   "metadata": {},
   "outputs": [],
   "source": [
    "# Alternative : Using scikit learn\n",
    "# from sklearn.preprocessing import MinMaxScaler, StandardScaler, PowerTransformer\n",
    "# minmax_scaler = MinMaxScaler()\n",
    "# standard_scaler = StandardScaler()\n",
    "# log_scaler = PowerTransformer()\n",
    "col=['NPL','NIM', 'BI Rate', 'Price plus 3 Months']\n",
    "# scaler=standard_scaler.fit(df[col])\n",
    "# df[col] = scaler.transform(df[col])"
   ]
  },
  {
   "cell_type": "code",
   "execution_count": 72,
   "id": "07336547",
   "metadata": {},
   "outputs": [
    {
     "data": {
      "text/plain": [
       "28    1209\n",
       "29    1247\n",
       "30    1257\n",
       "31    1180\n",
       "Name: Price plus 3 Months, dtype: int64"
      ]
     },
     "execution_count": 72,
     "metadata": {},
     "output_type": "execute_result"
    }
   ],
   "source": [
    "from sklearn.model_selection import train_test_split\n",
    "from sklearn.linear_model import LinearRegression \n",
    "from sklearn.metrics import mean_squared_error\n",
    "from sklearn.model_selection import cross_val_score, KFold\n",
    "X_train=df[0:28][col[:-1]]\n",
    "Y_train=df[0:28][col[-1]]\n",
    "X_test=df[28:][col[:-1]]\n",
    "Y_test=df[28:][col[-1]]\n",
    "Y_test"
   ]
  },
  {
   "cell_type": "code",
   "execution_count": 73,
   "id": "ba84717f",
   "metadata": {},
   "outputs": [
    {
     "name": "stdout",
     "output_type": "stream",
     "text": [
      "-3.340438358174816\n"
     ]
    },
    {
     "data": {
      "text/plain": [
       "64.0170886741125"
      ]
     },
     "execution_count": 73,
     "metadata": {},
     "output_type": "execute_result"
    }
   ],
   "source": [
    "# Construct model\n",
    "lm=LinearRegression()\n",
    "# Simple linear regression uses 1 column with eqn: y = mx + c\n",
    "# Multiple linear regression uses multiple columns with eqn: z = mx + ny +c\n",
    "# Fit the model\n",
    "lm.fit(X_train, Y_train)\n",
    "# Predicted estimation\n",
    "Y_pred = lm.predict(X_test)\n",
    "# This is intercept of the line (Also known as bias co-efficient)\n",
    "intercept = lm.intercept_\n",
    "# This is slope (m) of the line y=mx+c (Also known as relevant variable's co-efficient)\n",
    "slope = lm.coef_\n",
    "# Percentage of target values explained by the features\n",
    "rsquared = lm.score(X_test, Y_test)\n",
    "print(rsquared)\n",
    "# RMSE : Average error in prediction\n",
    "mean_squared_error(Y_test, Y_pred, squared=False)"
   ]
  },
  {
   "cell_type": "code",
   "execution_count": 74,
   "id": "fbc139be",
   "metadata": {},
   "outputs": [
    {
     "data": {
      "text/plain": [
       "array([259.72062045, 403.96198955, -71.84394362])"
      ]
     },
     "execution_count": 74,
     "metadata": {},
     "output_type": "execute_result"
    }
   ],
   "source": [
    "lm.coef_"
   ]
  },
  {
   "cell_type": "code",
   "execution_count": 75,
   "id": "b7d9ab59",
   "metadata": {},
   "outputs": [
    {
     "data": {
      "text/plain": [
       "28    1209\n",
       "29    1247\n",
       "30    1257\n",
       "31    1180\n",
       "Name: Price plus 3 Months, dtype: int64"
      ]
     },
     "execution_count": 75,
     "metadata": {},
     "output_type": "execute_result"
    }
   ],
   "source": [
    "Y_test"
   ]
  },
  {
   "cell_type": "code",
   "execution_count": 76,
   "id": "a474f0be",
   "metadata": {},
   "outputs": [
    {
     "data": {
      "text/plain": [
       "array([1203.47155645, 1323.22635523, 1335.62852829, 1246.10056118])"
      ]
     },
     "execution_count": 76,
     "metadata": {},
     "output_type": "execute_result"
    }
   ],
   "source": [
    "Y_pred"
   ]
  },
  {
   "cell_type": "code",
   "execution_count": 77,
   "id": "bb256b95",
   "metadata": {},
   "outputs": [
    {
     "data": {
      "text/html": [
       "<div>\n",
       "<style scoped>\n",
       "    .dataframe tbody tr th:only-of-type {\n",
       "        vertical-align: middle;\n",
       "    }\n",
       "\n",
       "    .dataframe tbody tr th {\n",
       "        vertical-align: top;\n",
       "    }\n",
       "\n",
       "    .dataframe thead th {\n",
       "        text-align: right;\n",
       "    }\n",
       "</style>\n",
       "<table border=\"1\" class=\"dataframe\">\n",
       "  <thead>\n",
       "    <tr style=\"text-align: right;\">\n",
       "      <th></th>\n",
       "      <th>NPL</th>\n",
       "      <th>NIM</th>\n",
       "      <th>BI Rate</th>\n",
       "    </tr>\n",
       "  </thead>\n",
       "  <tbody>\n",
       "    <tr>\n",
       "      <th>28</th>\n",
       "      <td>1.46</td>\n",
       "      <td>3.51</td>\n",
       "      <td>5.75</td>\n",
       "    </tr>\n",
       "    <tr>\n",
       "      <th>29</th>\n",
       "      <td>1.75</td>\n",
       "      <td>3.62</td>\n",
       "      <td>5.75</td>\n",
       "    </tr>\n",
       "    <tr>\n",
       "      <th>30</th>\n",
       "      <td>1.58</td>\n",
       "      <td>3.76</td>\n",
       "      <td>5.75</td>\n",
       "    </tr>\n",
       "    <tr>\n",
       "      <th>31</th>\n",
       "      <td>1.32</td>\n",
       "      <td>3.75</td>\n",
       "      <td>6.00</td>\n",
       "    </tr>\n",
       "  </tbody>\n",
       "</table>\n",
       "</div>"
      ],
      "text/plain": [
       "     NPL   NIM  BI Rate\n",
       "28  1.46  3.51     5.75\n",
       "29  1.75  3.62     5.75\n",
       "30  1.58  3.76     5.75\n",
       "31  1.32  3.75     6.00"
      ]
     },
     "execution_count": 77,
     "metadata": {},
     "output_type": "execute_result"
    }
   ],
   "source": [
    "X_test"
   ]
  },
  {
   "cell_type": "code",
   "execution_count": 78,
   "id": "9aeb9215",
   "metadata": {},
   "outputs": [
    {
     "data": {
      "text/html": [
       "<div>\n",
       "<style scoped>\n",
       "    .dataframe tbody tr th:only-of-type {\n",
       "        vertical-align: middle;\n",
       "    }\n",
       "\n",
       "    .dataframe tbody tr th {\n",
       "        vertical-align: top;\n",
       "    }\n",
       "\n",
       "    .dataframe thead th {\n",
       "        text-align: right;\n",
       "    }\n",
       "</style>\n",
       "<table border=\"1\" class=\"dataframe\">\n",
       "  <thead>\n",
       "    <tr style=\"text-align: right;\">\n",
       "      <th></th>\n",
       "      <th>NPL</th>\n",
       "      <th>NIM</th>\n",
       "      <th>BI Rate</th>\n",
       "      <th>Price plus 3 Months</th>\n",
       "    </tr>\n",
       "  </thead>\n",
       "  <tbody>\n",
       "    <tr>\n",
       "      <th>28</th>\n",
       "      <td>1.46</td>\n",
       "      <td>3.51</td>\n",
       "      <td>5.75</td>\n",
       "      <td>1209</td>\n",
       "    </tr>\n",
       "    <tr>\n",
       "      <th>29</th>\n",
       "      <td>1.75</td>\n",
       "      <td>3.62</td>\n",
       "      <td>5.75</td>\n",
       "      <td>1247</td>\n",
       "    </tr>\n",
       "    <tr>\n",
       "      <th>30</th>\n",
       "      <td>1.58</td>\n",
       "      <td>3.76</td>\n",
       "      <td>5.75</td>\n",
       "      <td>1257</td>\n",
       "    </tr>\n",
       "    <tr>\n",
       "      <th>31</th>\n",
       "      <td>1.32</td>\n",
       "      <td>3.75</td>\n",
       "      <td>6.00</td>\n",
       "      <td>1180</td>\n",
       "    </tr>\n",
       "  </tbody>\n",
       "</table>\n",
       "</div>"
      ],
      "text/plain": [
       "     NPL   NIM  BI Rate  Price plus 3 Months\n",
       "28  1.46  3.51     5.75                 1209\n",
       "29  1.75  3.62     5.75                 1247\n",
       "30  1.58  3.76     5.75                 1257\n",
       "31  1.32  3.75     6.00                 1180"
      ]
     },
     "execution_count": 78,
     "metadata": {},
     "output_type": "execute_result"
    }
   ],
   "source": [
    "df_inversed = pd.concat([X_test, Y_test], axis=1, join='inner')\n",
    "df_inversed"
   ]
  },
  {
   "cell_type": "code",
   "execution_count": 79,
   "id": "73847beb",
   "metadata": {},
   "outputs": [],
   "source": [
    "#df_inversed1=scaler.inverse_transform(df_inversed)\n",
    "#df_inversed1"
   ]
  },
  {
   "cell_type": "code",
   "execution_count": 82,
   "id": "f47b29ad",
   "metadata": {},
   "outputs": [
    {
     "data": {
      "text/html": [
       "<div>\n",
       "<style scoped>\n",
       "    .dataframe tbody tr th:only-of-type {\n",
       "        vertical-align: middle;\n",
       "    }\n",
       "\n",
       "    .dataframe tbody tr th {\n",
       "        vertical-align: top;\n",
       "    }\n",
       "\n",
       "    .dataframe thead th {\n",
       "        text-align: right;\n",
       "    }\n",
       "</style>\n",
       "<table border=\"1\" class=\"dataframe\">\n",
       "  <thead>\n",
       "    <tr style=\"text-align: right;\">\n",
       "      <th></th>\n",
       "      <th>NPL</th>\n",
       "      <th>NIM</th>\n",
       "      <th>BI Rate</th>\n",
       "      <th>Price_Pred</th>\n",
       "    </tr>\n",
       "  </thead>\n",
       "  <tbody>\n",
       "    <tr>\n",
       "      <th>28</th>\n",
       "      <td>1.46</td>\n",
       "      <td>3.51</td>\n",
       "      <td>5.75</td>\n",
       "      <td>1203.471556</td>\n",
       "    </tr>\n",
       "    <tr>\n",
       "      <th>29</th>\n",
       "      <td>1.75</td>\n",
       "      <td>3.62</td>\n",
       "      <td>5.75</td>\n",
       "      <td>1323.226355</td>\n",
       "    </tr>\n",
       "    <tr>\n",
       "      <th>30</th>\n",
       "      <td>1.58</td>\n",
       "      <td>3.76</td>\n",
       "      <td>5.75</td>\n",
       "      <td>1335.628528</td>\n",
       "    </tr>\n",
       "    <tr>\n",
       "      <th>31</th>\n",
       "      <td>1.32</td>\n",
       "      <td>3.75</td>\n",
       "      <td>6.00</td>\n",
       "      <td>1246.100561</td>\n",
       "    </tr>\n",
       "  </tbody>\n",
       "</table>\n",
       "</div>"
      ],
      "text/plain": [
       "     NPL   NIM  BI Rate   Price_Pred\n",
       "28  1.46  3.51     5.75  1203.471556\n",
       "29  1.75  3.62     5.75  1323.226355\n",
       "30  1.58  3.76     5.75  1335.628528\n",
       "31  1.32  3.75     6.00  1246.100561"
      ]
     },
     "execution_count": 82,
     "metadata": {},
     "output_type": "execute_result"
    }
   ],
   "source": [
    "Y_pred1 = pd.DataFrame(Y_pred, index=[28,29,30,31], columns = ['Price_Pred'])\n",
    "df_inversed1 = pd.concat([X_test, Y_pred1], axis=1, join='inner')\n",
    "df_inversed1"
   ]
  },
  {
   "cell_type": "code",
   "execution_count": 83,
   "id": "dac81ab5",
   "metadata": {},
   "outputs": [],
   "source": [
    "#df_inversed1=scaler.inverse_transform(df_inversed)\n",
    "#df_inversed1"
   ]
  },
  {
   "cell_type": "code",
   "execution_count": 84,
   "id": "fd7927f1",
   "metadata": {},
   "outputs": [
    {
     "data": {
      "image/png": "[encoded data removed]",
      "text/plain": [
       "<Figure size 432x288 with 1 Axes>"
      ]
     },
     "metadata": {
      "needs_background": "light"
     },
     "output_type": "display_data"
    }
   ],
   "source": [
    "import matplotlib.pyplot as plt\n",
    "#Visualize Feature importance\n",
    "names = [\"NPL\",\"NIM\",\"BI Rate\"]\n",
    "importance = lm.fit(X_train, Y_train).coef_\n",
    "importance_list=[]\n",
    "for i in importance.tolist():\n",
    "    importance_list.append(i)\n",
    "plt.bar(names, importance_list)\n",
    "plt.xticks(rotation=45)\n",
    "plt.show()"
   ]
  },
  {
   "cell_type": "code",
   "execution_count": 85,
   "id": "f2e492b1",
   "metadata": {},
   "outputs": [
    {
     "data": {
      "text/html": [
       "<div>\n",
       "<style scoped>\n",
       "    .dataframe tbody tr th:only-of-type {\n",
       "        vertical-align: middle;\n",
       "    }\n",
       "\n",
       "    .dataframe tbody tr th {\n",
       "        vertical-align: top;\n",
       "    }\n",
       "\n",
       "    .dataframe thead th {\n",
       "        text-align: right;\n",
       "    }\n",
       "</style>\n",
       "<table border=\"1\" class=\"dataframe\">\n",
       "  <thead>\n",
       "    <tr style=\"text-align: right;\">\n",
       "      <th></th>\n",
       "      <th>lower</th>\n",
       "      <th>upper</th>\n",
       "    </tr>\n",
       "  </thead>\n",
       "  <tbody>\n",
       "    <tr>\n",
       "      <th>const</th>\n",
       "      <td>-1593.690902</td>\n",
       "      <td>1232.641988</td>\n",
       "    </tr>\n",
       "    <tr>\n",
       "      <th>NPL</th>\n",
       "      <td>-221.872914</td>\n",
       "      <td>741.314155</td>\n",
       "    </tr>\n",
       "    <tr>\n",
       "      <th>NIM</th>\n",
       "      <td>120.141728</td>\n",
       "      <td>687.782251</td>\n",
       "    </tr>\n",
       "    <tr>\n",
       "      <th>BI Rate</th>\n",
       "      <td>-301.353144</td>\n",
       "      <td>157.665256</td>\n",
       "    </tr>\n",
       "  </tbody>\n",
       "</table>\n",
       "</div>"
      ],
      "text/plain": [
       "               lower        upper\n",
       "const   -1593.690902  1232.641988\n",
       "NPL      -221.872914   741.314155\n",
       "NIM       120.141728   687.782251\n",
       "BI Rate  -301.353144   157.665256"
      ]
     },
     "execution_count": 85,
     "metadata": {},
     "output_type": "execute_result"
    }
   ],
   "source": [
    "import numpy as np\n",
    "import pandas as pd\n",
    "from scipy import stats\n",
    "from sklearn.linear_model import LinearRegression\n",
    "\n",
    "\n",
    "def get_conf_int(alpha, lr, X=X_train, y=Y_train):\n",
    "    \n",
    "    \"\"\"\n",
    "    Returns (1-alpha) 2-sided confidence intervals\n",
    "    for sklearn.LinearRegression coefficients\n",
    "    as a pandas DataFrame\n",
    "    \"\"\"\n",
    "    \n",
    "    coefs = np.r_[[lr.intercept_], lr.coef_]\n",
    "    X_aux = X.copy()\n",
    "    X_aux.insert(0, 'const', 1)\n",
    "    dof = -np.diff(X_aux.shape)[0]\n",
    "    mse = np.sum((y - lr.predict(X)) ** 2) / dof\n",
    "    var_params = np.diag(np.linalg.inv(X_aux.T.dot(X_aux)))\n",
    "    t_val = stats.t.isf(alpha/2, dof)\n",
    "    gap = t_val * np.sqrt(mse * var_params)\n",
    "\n",
    "    return pd.DataFrame({\n",
    "        'lower': coefs - gap, 'upper': coefs + gap\n",
    "    }, index=X_aux.columns)\n",
    "get_conf_int(alpha=0.05,lr=lm,X=X_train, y=Y_train)"
   ]
  },
  {
   "cell_type": "code",
   "execution_count": 87,
   "id": "6aafba69",
   "metadata": {},
   "outputs": [
    {
     "data": {
      "image/png": "[encoded data removed]",
      "text/plain": [
       "<Figure size 720x360 with 1 Axes>"
      ]
     },
     "metadata": {
      "needs_background": "light"
     },
     "output_type": "display_data"
    }
   ],
   "source": [
    "dummylist1=[]\n",
    "for i in range(len(df_inversed)):\n",
    "    dummylist1.append(df_inversed.iloc[i][-1])\n",
    "dummylist2=[]\n",
    "for i in range(len(df_inversed1)):\n",
    "    dummylist2.append(df_inversed1.iloc[i][-1])\n",
    "date=df[28:][\"Date\"]\n",
    "import matplotlib.pyplot as plt\n",
    "plt.figure(figsize=(10,5))\n",
    "plt.plot(date, dummylist1, label =\"Actual\")\n",
    "plt.plot(date, dummylist2, label =\"Predicted\")\n",
    "plt.legend()\n",
    "plt.show()"
   ]
  },
  {
   "cell_type": "code",
   "execution_count": 88,
   "id": "443f42d9",
   "metadata": {},
   "outputs": [],
   "source": [
    "import pickle\n",
    "pickle.dump(lm, open(\"lrsaham2.pkl\", \"wb\"))\n",
    "\n",
    "# load the model\n",
    "#model = pickle.load(open(\"lrsaham.pkl\", \"rb\"))\n",
    "\n",
    "# use model to predict\n",
    "# y_pred = model.predict(X_input)"
   ]
  },
  {
   "cell_type": "code",
   "execution_count": 33,
   "id": "0ee91856",
   "metadata": {},
   "outputs": [
    {
     "data": {
      "text/plain": [
       "['standarscaler.save']"
      ]
     },
     "execution_count": 33,
     "metadata": {},
     "output_type": "execute_result"
    }
   ],
   "source": [
    "#from sklearn.externals import joblib\n",
    "#import sklearn.externals.joblib as extjoblib\n",
    "import joblib\n",
    "scaler_filename = \"standarscaler.save\"\n",
    "joblib.dump(scaler, scaler_filename) \n",
    "\n",
    "# And now to load...\n",
    "\n",
    "#scaler = joblib.load(scaler_filename) "
   ]
  },
  {
   "cell_type": "code",
   "execution_count": null,
   "id": "b230b495",
   "metadata": {},
   "outputs": [],
   "source": []
  }
 ],
 "metadata": {
  "kernelspec": {
   "display_name": "Python 3 (ipykernel)",
   "language": "python",
   "name": "python3"
  },
  "language_info": {
   "codemirror_mode": {
    "name": "ipython",
    "version": 3
   },
   "file_extension": ".py",
   "mimetype": "text/x-python",
   "name": "python",
   "nbconvert_exporter": "python",
   "pygments_lexer": "ipython3",
   "version": "3.9.7"
  }
 },
 "nbformat": 4,
 "nbformat_minor": 5
}
