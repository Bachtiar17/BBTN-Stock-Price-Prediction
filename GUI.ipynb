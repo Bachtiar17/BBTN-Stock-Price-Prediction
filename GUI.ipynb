{
 "cells": [
  {
   "cell_type": "code",
   "execution_count": 36,
   "id": "22626431",
   "metadata": {},
   "outputs": [],
   "source": [
    "import pickle\n",
    "# load the model\n",
    "model = pickle.load(open(\"lrsaham2.pkl\", \"rb\"))\n",
    "\n",
    "# use model to predict\n",
    "# y_pred = model.predict(X_input)"
   ]
  },
  {
   "cell_type": "code",
   "execution_count": 37,
   "id": "b3444952",
   "metadata": {},
   "outputs": [],
   "source": [
    "#import joblib\n",
    "# And now to load...\n",
    "\n",
    "#scaler = joblib.load(\"standarscaler.save\") "
   ]
  },
  {
   "cell_type": "code",
   "execution_count": 38,
   "id": "300e8eb0",
   "metadata": {},
   "outputs": [],
   "source": [
    "Y_pred = model.predict([[1.58,3.76,5.75]])"
   ]
  },
  {
   "cell_type": "code",
   "execution_count": 39,
   "id": "dd6b9783",
   "metadata": {},
   "outputs": [
    {
     "data": {
      "text/plain": [
       "array([1335.62852829])"
      ]
     },
     "execution_count": 39,
     "metadata": {},
     "output_type": "execute_result"
    }
   ],
   "source": [
    "Y_pred"
   ]
  },
  {
   "cell_type": "code",
   "execution_count": 40,
   "id": "327fa449",
   "metadata": {},
   "outputs": [
    {
     "data": {
      "text/plain": [
       "array([259.72062045, 403.96198955, -71.84394362])"
      ]
     },
     "execution_count": 40,
     "metadata": {},
     "output_type": "execute_result"
    }
   ],
   "source": [
    "model.coef_"
   ]
  },
  {
   "cell_type": "code",
   "execution_count": 42,
   "id": "6e59c9cf",
   "metadata": {},
   "outputs": [],
   "source": [
    "# Import Module\n",
    "from tkinter import *\n",
    " \n",
    "# create root window\n",
    "root = Tk()\n",
    " \n",
    "# root window title and dimension\n",
    "root.title(\"Welcome to GeekForGeeks\")\n",
    "# Set geometry (widthxheight)\n",
    "root.geometry('350x200')\n",
    "\n",
    "lbl_nim = Label(root, text = \"Net Interest Rate (in %)\")\n",
    "lbl_nim.grid()\n",
    "txt_nim = Entry(root, width=10)\n",
    "txt_nim.grid(column =1, row =0)\n",
    "\n",
    "lbl_npl = Label(root, text = \"Non Performing Loan (in %)\")\n",
    "lbl_npl.grid()\n",
    "txt_npl = Entry(root, width=10)\n",
    "txt_npl.grid(column =1, row =1)\n",
    "\n",
    "lbl_birate = Label(root, text = \"BI Rate (in %)\")\n",
    "lbl_birate.grid()\n",
    "txt_birate = Entry(root, width=10)\n",
    "txt_birate.grid(column =1, row =2)\n",
    "\n",
    "def clicked():\n",
    "    result=[txt_nim.get(),txt_npl.get(),txt_birate.get()]\n",
    "    result2=[]\n",
    "    for i in result:\n",
    "        if \",\" in i:\n",
    "            result2.append(float(i.replace(\",\",\".\")))\n",
    "        else:\n",
    "            result2.append(float(i))\n",
    "            \n",
    "    Y_pred = model.predict([result2])\n",
    "    \n",
    "    lbl_result = Label(root, text = \"The price after 3 month is \"+str(round(Y_pred[0])))\n",
    "    lbl_result.grid()\n",
    "\n",
    "\n",
    "#button widget with red color text\n",
    "# inside\n",
    "btn = Button(root, text = \"RESULT\" ,\n",
    "             fg = \"red\", command=clicked)\n",
    "# set Button grid\n",
    "btn.grid(column=1, row=3)\n",
    "# all widgets will be here\n",
    "# Execute Tkinter\n",
    "root.mainloop()\n"
   ]
  },
  {
   "cell_type": "code",
   "execution_count": null,
   "id": "0c082000",
   "metadata": {},
   "outputs": [],
   "source": []
  }
 ],
 "metadata": {
  "kernelspec": {
   "display_name": "Python 3 (ipykernel)",
   "language": "python",
   "name": "python3"
  },
  "language_info": {
   "codemirror_mode": {
    "name": "ipython",
    "version": 3
   },
   "file_extension": ".py",
   "mimetype": "text/x-python",
   "name": "python",
   "nbconvert_exporter": "python",
   "pygments_lexer": "ipython3",
   "version": "3.9.7"
  }
 },
 "nbformat": 4,
 "nbformat_minor": 5
}
